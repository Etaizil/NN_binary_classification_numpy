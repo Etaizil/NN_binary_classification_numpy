{
  "cells": [
    {
      "cell_type": "markdown",
      "metadata": {
        "collapsed": false,
        "id": "XDDbguyGU8Fs"
      },
      "source": [
        "# Basics of deep learning - Neural Network with NumPy\n",
        "## Binary-Classification\n",
        "By Etai Zilberman, Bar Ara\n"
      ]
    },
    {
      "cell_type": "markdown",
      "metadata": {
        "id": "JLkWLC8f3HZI"
      },
      "source": [
        "## Sign Language Digits With NumPy\n",
        "Sign Language Digits dataset contains 5,000 grayscale images in 10 categories. The images show individual articles of hand sign at low resolution (28 by 28 pixels), as seen here:\n",
        "\n",
        "<table>\n",
        "  <tr><td>\n",
        "    <img src=\"https://www.researchgate.net/publication/344389112/figure/fig8/AS:941467451260937@1601474740275/Sample-images-from-ASL-with-digits-dataset.png\"\n",
        "         alt=\"Fashion MNIST sprite\"  width=\"600\">\n",
        "  </td></tr>\n",
        "  \n",
        "</table>\n",
        "\n"
      ]
    },
    {
      "cell_type": "markdown",
      "metadata": {
        "id": "WiRxNFCn3Vxd"
      },
      "source": [
        "\n",
        "\n",
        "The images are 28x28 NumPy arrays, with pixel values ranging between 0 and 255. The *labels* are an array of numbers ranging from '0' to '9'. These correspond to the *class* of hand sign digit the image represents:\n",
        "\n",
        "<table>\n",
        "  <tr>\n",
        "    <th>Label</th>\n",
        "    <th>Class</th>\n",
        "  </tr>\n",
        "  <tr>\n",
        "    <td>0</td>\n",
        "    <td>Hand Sign Zero</td>\n",
        "  </tr>\n",
        "  <tr>\n",
        "    <td>1</td>\n",
        "    <td>Hand Sign One</td>\n",
        "  </tr>\n",
        "    <tr>\n",
        "    <td>2</td>\n",
        "    <td>Hand Sign Two</td>\n",
        "  </tr>\n",
        "    <tr>\n",
        "    <td>3</td>\n",
        "    <td>Hand Sign Three</td>\n",
        "  </tr>\n",
        "    <tr>\n",
        "    <td>4</td>\n",
        "    <td>Hand Sign Four</td>\n",
        "  </tr>\n",
        "    <tr>\n",
        "    <td>5</td>\n",
        "    <td>Hand Sign Five</td>\n",
        "  </tr>\n",
        "    <tr>\n",
        "    <td>6</td>\n",
        "    <td>Hand Sign Six</td>\n",
        "  </tr>\n",
        "    <tr>\n",
        "    <td>7</td>\n",
        "    <td>Hand Sign Seven</td>\n",
        "  </tr>\n",
        "    <tr>\n",
        "    <td>8</td>\n",
        "    <td>Hand Sign Eight</td>\n",
        "  </tr>\n",
        "    <tr>\n",
        "    <td>9</td>\n",
        "    <td>Hand Sign Nine</td>\n",
        "  </tr>\n",
        "</table>\n",
        "\n",
        "<br>"
      ]
    },
    {
      "cell_type": "markdown",
      "metadata": {
        "id": "QReFpU112hLT"
      },
      "source": [
        "## Import Libraries"
      ]
    },
    {
      "cell_type": "code",
      "execution_count": null,
      "metadata": {
        "id": "tLOHjUiFU8Fv"
      },
      "outputs": [],
      "source": [
        "import time\n",
        "start = time.time()\n",
        "import numpy as np\n",
        "import matplotlib\n",
        "import matplotlib.pyplot as plt\n",
        "from sklearn.datasets import fetch_openml\n",
        "from sklearn.metrics import classification_report, confusion_matrix, accuracy_score"
      ]
    },
    {
      "cell_type": "markdown",
      "metadata": {
        "id": "D5MsCpUv2tuj"
      },
      "source": [
        "## Download Dataset"
      ]
    },
    {
      "cell_type": "code",
      "execution_count": null,
      "metadata": {
        "colab": {
          "base_uri": "https://localhost:8080/"
        },
        "id": "SiM-d_4cV1aZ",
        "outputId": "de947d1a-04a0-4def-f42c-48eefcf7d692"
      },
      "outputs": [
        {
          "output_type": "stream",
          "name": "stdout",
          "text": [
            "time: 475 µs (started: 2025-01-29 09:41:17 +00:00)\n"
          ]
        }
      ],
      "source": [
        "%%capture\n",
        "!pip install ipython-autotime\n",
        "!pip install -U --no-cache-dir gdown --pre\n",
        "!gdown --id 1-0fhqH8tXKPb60C_b4aUHT7f-J4O6Ezq\n",
        "%load_ext autotime"
      ]
    },
    {
      "cell_type": "markdown",
      "metadata": {
        "id": "uj30jTHwXNXp"
      },
      "source": [
        "Loading the dataset as NumPy arrays:\n",
        "\n",
        "* The `dataset` file is a NumPy array containing the image pixles. It includes 5,000 rows for each image and 784 columns for each pixel in the image (28x28).\n",
        "* The `labels` file is a NumPy array containing the images labels. It includes 5,000 rows for each image corresponding to the dataset."
      ]
    },
    {
      "cell_type": "code",
      "execution_count": null,
      "metadata": {
        "colab": {
          "base_uri": "https://localhost:8080/"
        },
        "id": "nbzv9ZYA2pyW",
        "outputId": "9051a60f-ab34-477c-e870-6a7c07273fee"
      },
      "outputs": [
        {
          "output_type": "stream",
          "name": "stdout",
          "text": [
            "Dataset shape: (5000, 784)\n",
            "Labels shape: (5000,)\n",
            "time: 75.1 ms (started: 2025-01-29 09:41:17 +00:00)\n"
          ]
        }
      ],
      "source": [
        "loaded_data = np.load('/content/dataset_labels.npz')\n",
        "X, y = loaded_data['dataset'], loaded_data['labels']\n",
        "print(f'Dataset shape: {X.shape}\\nLabels shape: {y.shape}')"
      ]
    },
    {
      "cell_type": "markdown",
      "metadata": {
        "id": "GPBGGKtSoVpU"
      },
      "source": [
        "## Data preprocessing"
      ]
    },
    {
      "cell_type": "markdown",
      "metadata": {
        "id": "LZfq8otp-wXY"
      },
      "source": [
        "### Feature scaling"
      ]
    },
    {
      "cell_type": "code",
      "execution_count": null,
      "metadata": {
        "colab": {
          "base_uri": "https://localhost:8080/"
        },
        "id": "7MZtZIzzDIKe",
        "outputId": "9d200b27-48ac-4a15-926b-d1edc196bdf9"
      },
      "outputs": [
        {
          "output_type": "stream",
          "name": "stdout",
          "text": [
            "(5000, 784)\n",
            "time: 20.9 ms (started: 2025-01-29 09:41:17 +00:00)\n"
          ]
        }
      ],
      "source": [
        "examples = y.shape[0]\n",
        "y1 = y.reshape(1, examples)\n",
        "X = X / 255\n",
        "print(X.shape)"
      ]
    },
    {
      "cell_type": "markdown",
      "metadata": {
        "id": "i6K01j7A_Z4W"
      },
      "source": [
        "### Selecting two classes"
      ]
    },
    {
      "cell_type": "code",
      "execution_count": null,
      "metadata": {
        "colab": {
          "base_uri": "https://localhost:8080/"
        },
        "id": "D5vFcHnz7qbf",
        "outputId": "d1e1cf9f-74ff-4487-97cf-d43ca04b006c"
      },
      "outputs": [
        {
          "output_type": "stream",
          "name": "stdout",
          "text": [
            "time: 338 µs (started: 2025-01-29 09:41:17 +00:00)\n"
          ]
        }
      ],
      "source": [
        "classes=[\"7\",\"8\"]"
      ]
    },
    {
      "cell_type": "code",
      "execution_count": null,
      "metadata": {
        "colab": {
          "base_uri": "https://localhost:8080/"
        },
        "id": "7OuPZ0o8DNWq",
        "outputId": "29a72a4b-90bf-4a76-c4c9-0106493c3440"
      },
      "outputs": [
        {
          "output_type": "stream",
          "name": "stdout",
          "text": [
            "time: 14.8 ms (started: 2025-01-29 09:41:17 +00:00)\n"
          ]
        }
      ],
      "source": [
        "class1 = np.array([X[i] for i in range(examples) if y[i] == classes[0]])\n",
        "class2 = np.array([X[i] for i in range(examples) if y[i] == classes[1]])"
      ]
    },
    {
      "cell_type": "code",
      "execution_count": null,
      "metadata": {
        "colab": {
          "base_uri": "https://localhost:8080/"
        },
        "id": "AI4VC8k_G_64",
        "outputId": "925ac8c2-27c9-4dcd-ad3d-95caa5b2594f"
      },
      "outputs": [
        {
          "output_type": "execute_result",
          "data": {
            "text/plain": [
              "((500, 784), (500, 784))"
            ]
          },
          "metadata": {},
          "execution_count": 7
        },
        {
          "output_type": "stream",
          "name": "stdout",
          "text": [
            "time: 5.32 ms (started: 2025-01-29 09:41:17 +00:00)\n"
          ]
        }
      ],
      "source": [
        "class1.shape, class2.shape"
      ]
    },
    {
      "cell_type": "markdown",
      "metadata": {
        "id": "cn5UPcIQH2jS"
      },
      "source": [
        "### Spliting the data into Train set and Test set"
      ]
    },
    {
      "cell_type": "code",
      "execution_count": null,
      "metadata": {
        "colab": {
          "base_uri": "https://localhost:8080/"
        },
        "id": "FBUI2DZmhd0y",
        "outputId": "6c5f91ee-9c44-4e1b-c81c-f692a840bd78"
      },
      "outputs": [
        {
          "output_type": "stream",
          "name": "stdout",
          "text": [
            "count_0: 400 , count_1: 400\n",
            "count_0: 100 , count_1: 100\n",
            "time: 28 ms (started: 2025-01-29 09:41:17 +00:00)\n"
          ]
        }
      ],
      "source": [
        "from sklearn.utils import shuffle\n",
        "\n",
        "split_class1 = int(0.8 * class1.shape[0])\n",
        "split_class2 = int(0.8 * class2.shape[0])\n",
        "\n",
        "X_train_class1, X_test_class1 = class1[:split_class1], class1[split_class1:]\n",
        "X_train_class2, X_test_class2 = class2[:split_class2], class2[split_class2:]\n",
        "\n",
        "X_train = np.concatenate((X_train_class1, X_train_class2), axis=0)\n",
        "X_test = np.concatenate((X_test_class1, X_test_class2), axis=0)\n",
        "\n",
        "Y_train_class1 = np.zeros((X_train_class1.shape[0], 1),np.int32)\n",
        "Y_train_class2 = np.ones((X_train_class2.shape[0], 1),np.int32)\n",
        "Y_test_class1 = np.zeros((X_test_class1.shape[0], 1),np.int32)\n",
        "Y_test_class2 = np.ones((X_test_class2.shape[0], 1),np.int32)\n",
        "\n",
        "Y_train = np.concatenate((Y_train_class1, Y_train_class2), axis=0)\n",
        "Y_test = np.concatenate((Y_test_class1, Y_test_class2), axis=0)\n",
        "\n",
        "X_train, Y_train = shuffle(X_train, Y_train)\n",
        "X_test, Y_test = shuffle(X_test, Y_test)\n",
        "\n",
        "# Self check\n",
        "count_0 = 0\n",
        "count_1 = 0\n",
        "for i in range(Y_train.shape[0]):\n",
        "  if Y_train[i] == 0:\n",
        "    count_0 += 1\n",
        "  else:\n",
        "    count_1 += 1\n",
        "print(\"count_0:\", count_0, \", count_1:\", count_1)\n",
        "count_0 = 0\n",
        "count_1 = 0\n",
        "for i in range(Y_test.shape[0]):\n",
        "  if Y_test[i] == 0:\n",
        "    count_0 += 1\n",
        "  else:\n",
        "    count_1 += 1\n",
        "print(\"count_0:\", count_0, \", count_1:\", count_1)"
      ]
    },
    {
      "cell_type": "code",
      "execution_count": null,
      "metadata": {
        "colab": {
          "base_uri": "https://localhost:8080/"
        },
        "id": "6in_vh_i9UCF",
        "outputId": "3cbf741e-961e-430e-dc86-4760b1f9ac9e"
      },
      "outputs": [
        {
          "output_type": "stream",
          "name": "stdout",
          "text": [
            "time: 403 µs (started: 2025-01-29 09:41:17 +00:00)\n"
          ]
        }
      ],
      "source": [
        "X_train=X_train.T\n",
        "X_test=X_test.T"
      ]
    },
    {
      "cell_type": "code",
      "execution_count": null,
      "metadata": {
        "colab": {
          "base_uri": "https://localhost:8080/"
        },
        "id": "Uk-yqzXe_VC7",
        "outputId": "03fa8101-a157-4387-af56-4b244e216eda"
      },
      "outputs": [
        {
          "output_type": "stream",
          "name": "stdout",
          "text": [
            "(784, 800)\n",
            "(800, 1)\n",
            "time: 490 µs (started: 2025-01-29 09:41:17 +00:00)\n"
          ]
        }
      ],
      "source": [
        "print(X_train.shape)\n",
        "print(Y_train.shape)"
      ]
    },
    {
      "cell_type": "markdown",
      "metadata": {
        "id": "gg7D7fwGH9Yv"
      },
      "source": [
        "### Generating a random picture as a test"
      ]
    },
    {
      "cell_type": "code",
      "execution_count": null,
      "metadata": {
        "colab": {
          "base_uri": "https://localhost:8080/",
          "height": 441
        },
        "id": "wkLl0PSyDR9S",
        "outputId": "d6a828ec-156f-4244-e1ec-01e4d9184b78"
      },
      "outputs": [
        {
          "output_type": "display_data",
          "data": {
            "text/plain": [
              "<Figure size 640x480 with 1 Axes>"
            ],
            "image/png": "[encoded data removed]"
          },
          "metadata": {}
        },
        {
          "output_type": "execute_result",
          "data": {
            "text/plain": [
              "0"
            ]
          },
          "metadata": {},
          "execution_count": 11
        },
        {
          "output_type": "stream",
          "name": "stdout",
          "text": [
            "time: 202 ms (started: 2025-01-29 09:41:17 +00:00)\n"
          ]
        }
      ],
      "source": [
        "%matplotlib inline\n",
        "from numpy import random\n",
        "\n",
        "i = random.randint(100)\n",
        "plt.imshow(X_train[:,i].reshape(28,28), cmap = matplotlib.cm.binary)\n",
        "plt.axis(\"off\")\n",
        "plt.show()\n",
        "Y_train[i,0]"
      ]
    },
    {
      "cell_type": "markdown",
      "metadata": {
        "id": "Q81OW5M7oCWZ"
      },
      "source": [
        "## Activation function"
      ]
    },
    {
      "cell_type": "code",
      "execution_count": null,
      "metadata": {
        "colab": {
          "base_uri": "https://localhost:8080/"
        },
        "id": "nxruxXBsDmP-",
        "outputId": "3d2988c5-c42b-4691-f24f-95956993951d"
      },
      "outputs": [
        {
          "output_type": "stream",
          "name": "stdout",
          "text": [
            "time: 399 µs (started: 2025-01-29 09:41:17 +00:00)\n"
          ]
        }
      ],
      "source": [
        "def sigmoid(z):\n",
        "    return (1/(1+np.exp(-z)))"
      ]
    },
    {
      "cell_type": "markdown",
      "metadata": {
        "id": "OBIAUcVboOG9"
      },
      "source": [
        "## Loss Function\n",
        "\n",
        "The BCE Loss function embodies the idea that the neural network should incur a substantial penalty (i.e., Loss tending toward infinity) when the predicted probability diverges significantly from the actual label of the training example. Conversely, the Loss should be zero (Loss = 0) when the predicted probability aligns perfectly with the label of the training example. In simpler terms, the BCE Loss should be zero in the following two situations:\n",
        "\n",
        "- When the example has a positive label (${y} = 1$), the neural network should be entirely confident that the example belongs to the positive class, i.e., ($\\hat{p} = 1 $).\n",
        "- When the example has a negative label (${y} = 0$), the neural network should be entirely confident that the example does not belong to the positive class, i.e., ($\\hat{p} = 0 $).\n",
        "\n",
        "**It's important to note that when working with computers, extremely high or low values can sometimes be unmanageable and might even lead to system crashes. To address this, I took care of clipping the values to prevent the logarithm to yield infinity or negative infinity.**\n"
      ]
    },
    {
      "cell_type": "code",
      "execution_count": null,
      "metadata": {
        "colab": {
          "base_uri": "https://localhost:8080/"
        },
        "id": "U0i2o9_KDUdQ",
        "outputId": "081bdeef-8384-4154-86cf-8930a90823b7"
      },
      "outputs": [
        {
          "output_type": "stream",
          "name": "stdout",
          "text": [
            "time: 460 µs (started: 2025-01-29 09:41:17 +00:00)\n"
          ]
        }
      ],
      "source": [
        "def log_loss(y_hat, y):\n",
        "    '''\n",
        "    Logistic loss, assuming a single value in y_hat and y.\n",
        "    '''\n",
        "    y_hat = np.clip(y_hat, 1e-15, 1 - 1e-15)\n",
        "    return -(y * np.log(y_hat) + (1 - y) * np.log(1 - y_hat))\n"
      ]
    },
    {
      "cell_type": "markdown",
      "metadata": {
        "id": "WY9DQPrJmvHZ"
      },
      "source": [
        "## Hyper Parameters"
      ]
    },
    {
      "cell_type": "code",
      "execution_count": null,
      "metadata": {
        "colab": {
          "base_uri": "https://localhost:8080/"
        },
        "id": "qGCU_QYRnJap",
        "outputId": "f22e7c4c-2c13-402c-9f45-2dc767e5060a"
      },
      "outputs": [
        {
          "output_type": "stream",
          "name": "stdout",
          "text": [
            "time: 429 µs (started: 2025-01-29 09:41:18 +00:00)\n"
          ]
        }
      ],
      "source": [
        "input_layer = X_train.shape[0] # 28X28 = 784\n",
        "hidden_layer = 64\n",
        "learning_rate = 0.009\n",
        "epochs = 100"
      ]
    },
    {
      "cell_type": "markdown",
      "metadata": {
        "id": "M6SdHpc2m3vV"
      },
      "source": [
        "## Weight and Bias Initialization"
      ]
    },
    {
      "cell_type": "code",
      "execution_count": null,
      "metadata": {
        "colab": {
          "base_uri": "https://localhost:8080/"
        },
        "id": "IVRoMGxTnLZI",
        "outputId": "d97be215-7ed8-4279-8f09-6768acb9d6c4"
      },
      "outputs": [
        {
          "output_type": "stream",
          "name": "stdout",
          "text": [
            "W1.shape:  (64, 784)\n",
            "b1.shape:  (64, 1)\n",
            "W2.shape:  (1, 64)\n",
            "b2.shape:  (1, 1)\n",
            "time: 8.13 ms (started: 2025-01-29 09:41:18 +00:00)\n"
          ]
        }
      ],
      "source": [
        "W1 = np.random.randn(hidden_layer, input_layer)\n",
        "b1 = np.zeros((hidden_layer, 1))\n",
        "W2 = np.random.randn(1, hidden_layer)\n",
        "b2 = np.zeros((1, 1))\n",
        "\n",
        "print(\"W1.shape: \",W1.shape)\n",
        "print(\"b1.shape: \",b1.shape)\n",
        "print(\"W2.shape: \",W2.shape)\n",
        "print(\"b2.shape: \",b2.shape)"
      ]
    },
    {
      "cell_type": "markdown",
      "metadata": {
        "id": "fp-IaWECn6Hu"
      },
      "source": [
        "## Training"
      ]
    },
    {
      "cell_type": "code",
      "execution_count": null,
      "metadata": {
        "colab": {
          "base_uri": "https://localhost:8080/"
        },
        "id": "4tdlcCGLDo7F",
        "outputId": "b3713d0a-ec12-4292-9806-5aeaa0fcb99f"
      },
      "outputs": [
        {
          "output_type": "stream",
          "name": "stdout",
          "text": [
            "Epoch 0  Loss: [0.84255894] , Training Accuracy:  59.62499999999999 %\n",
            "Epoch 1  Loss: [0.71510952] , Training Accuracy:  62.875 %\n",
            "Epoch 2  Loss: [0.64360655] , Training Accuracy:  67.0 %\n",
            "Epoch 3  Loss: [0.58428509] , Training Accuracy:  71.25 %\n",
            "Epoch 4  Loss: [0.53571147] , Training Accuracy:  74.375 %\n",
            "Epoch 5  Loss: [0.49646211] , Training Accuracy:  78.25 %\n",
            "Epoch 6  Loss: [0.46454268] , Training Accuracy:  79.75 %\n",
            "Epoch 7  Loss: [0.4381865] , Training Accuracy:  81.75 %\n",
            "Epoch 8  Loss: [0.41606531] , Training Accuracy:  83.625 %\n",
            "Epoch 9  Loss: [0.39721992] , Training Accuracy:  85.5 %\n",
            "Epoch 10  Loss: [0.38094962] , Training Accuracy:  87.125 %\n",
            "Epoch 11  Loss: [0.3667255] , Training Accuracy:  87.5 %\n",
            "Epoch 12  Loss: [0.35413976] , Training Accuracy:  88.25 %\n",
            "Epoch 13  Loss: [0.34287752] , Training Accuracy:  89.0 %\n",
            "Epoch 14  Loss: [0.33269667] , Training Accuracy:  89.375 %\n",
            "Epoch 15  Loss: [0.32341104] , Training Accuracy:  89.5 %\n",
            "Epoch 16  Loss: [0.31487662] , Training Accuracy:  89.5 %\n",
            "Epoch 17  Loss: [0.306981] , Training Accuracy:  90.125 %\n",
            "Epoch 18  Loss: [0.29963529] , Training Accuracy:  90.5 %\n",
            "Epoch 19  Loss: [0.2927682] , Training Accuracy:  90.625 %\n",
            "Epoch 20  Loss: [0.28632172] , Training Accuracy:  90.75 %\n",
            "Epoch 21  Loss: [0.28024795] , Training Accuracy:  91.25 %\n",
            "Epoch 22  Loss: [0.27450676] , Training Accuracy:  91.625 %\n",
            "Epoch 23  Loss: [0.26906417] , Training Accuracy:  91.75 %\n",
            "Epoch 24  Loss: [0.26389106] , Training Accuracy:  92.125 %\n",
            "Epoch 25  Loss: [0.25896223] , Training Accuracy:  92.25 %\n",
            "Epoch 26  Loss: [0.25425574] , Training Accuracy:  92.25 %\n",
            "Epoch 27  Loss: [0.24975233] , Training Accuracy:  92.625 %\n",
            "Epoch 28  Loss: [0.245435] , Training Accuracy:  92.625 %\n",
            "Epoch 29  Loss: [0.24128869] , Training Accuracy:  93.25 %\n",
            "Epoch 30  Loss: [0.23729997] , Training Accuracy:  93.375 %\n",
            "Epoch 31  Loss: [0.2334569] , Training Accuracy:  93.375 %\n",
            "Epoch 32  Loss: [0.22974873] , Training Accuracy:  93.5 %\n",
            "Epoch 33  Loss: [0.22616587] , Training Accuracy:  93.625 %\n",
            "Epoch 34  Loss: [0.22269965] , Training Accuracy:  93.75 %\n",
            "Epoch 35  Loss: [0.21934232] , Training Accuracy:  94.25 %\n",
            "Epoch 36  Loss: [0.21608685] , Training Accuracy:  94.25 %\n",
            "Epoch 37  Loss: [0.21292692] , Training Accuracy:  94.25 %\n",
            "Epoch 38  Loss: [0.20985684] , Training Accuracy:  94.5 %\n",
            "Epoch 39  Loss: [0.20687146] , Training Accuracy:  94.5 %\n",
            "Epoch 40  Loss: [0.20396613] , Training Accuracy:  94.625 %\n",
            "Epoch 41  Loss: [0.20113665] , Training Accuracy:  94.625 %\n",
            "Epoch 42  Loss: [0.19837926] , Training Accuracy:  94.625 %\n",
            "Epoch 43  Loss: [0.19569051] , Training Accuracy:  94.875 %\n",
            "Epoch 44  Loss: [0.19306731] , Training Accuracy:  94.875 %\n",
            "Epoch 45  Loss: [0.19050685] , Training Accuracy:  95.125 %\n",
            "Epoch 46  Loss: [0.18800659] , Training Accuracy:  95.375 %\n",
            "Epoch 47  Loss: [0.1855642] , Training Accuracy:  95.5 %\n",
            "Epoch 48  Loss: [0.18317753] , Training Accuracy:  95.625 %\n",
            "Epoch 49  Loss: [0.18084465] , Training Accuracy:  95.75 %\n",
            "Epoch 50  Loss: [0.17856371] , Training Accuracy:  95.75 %\n",
            "Epoch 51  Loss: [0.17633305] , Training Accuracy:  95.875 %\n",
            "Epoch 52  Loss: [0.17415108] , Training Accuracy:  96.0 %\n",
            "Epoch 53  Loss: [0.1720163] , Training Accuracy:  96.125 %\n",
            "Epoch 54  Loss: [0.16992731] , Training Accuracy:  96.125 %\n",
            "Epoch 55  Loss: [0.16788277] , Training Accuracy:  96.125 %\n",
            "Epoch 56  Loss: [0.16588137] , Training Accuracy:  96.25 %\n",
            "Epoch 57  Loss: [0.16392188] , Training Accuracy:  96.25 %\n",
            "Epoch 58  Loss: [0.16200309] , Training Accuracy:  96.25 %\n",
            "Epoch 59  Loss: [0.1601238] , Training Accuracy:  96.375 %\n",
            "Epoch 60  Loss: [0.15828287] , Training Accuracy:  96.375 %\n",
            "Epoch 61  Loss: [0.15647916] , Training Accuracy:  96.375 %\n",
            "Epoch 62  Loss: [0.15471154] , Training Accuracy:  96.375 %\n",
            "Epoch 63  Loss: [0.15297891] , Training Accuracy:  96.5 %\n",
            "Epoch 64  Loss: [0.15128018] , Training Accuracy:  96.625 %\n",
            "Epoch 65  Loss: [0.14961428] , Training Accuracy:  96.75 %\n",
            "Epoch 66  Loss: [0.14798016] , Training Accuracy:  96.75 %\n",
            "Epoch 67  Loss: [0.1463768] , Training Accuracy:  96.75 %\n",
            "Epoch 68  Loss: [0.14480318] , Training Accuracy:  96.875 %\n",
            "Epoch 69  Loss: [0.14325832] , Training Accuracy:  96.875 %\n",
            "Epoch 70  Loss: [0.14174129] , Training Accuracy:  96.875 %\n",
            "Epoch 71  Loss: [0.14025113] , Training Accuracy:  97.0 %\n",
            "Epoch 72  Loss: [0.13878697] , Training Accuracy:  97.125 %\n",
            "Epoch 73  Loss: [0.13734791] , Training Accuracy:  97.25 %\n",
            "Epoch 74  Loss: [0.13593313] , Training Accuracy:  97.25 %\n",
            "Epoch 75  Loss: [0.1345418] , Training Accuracy:  97.5 %\n",
            "Epoch 76  Loss: [0.13317312] , Training Accuracy:  97.625 %\n",
            "Epoch 77  Loss: [0.13182634] , Training Accuracy:  97.625 %\n",
            "Epoch 78  Loss: [0.13050069] , Training Accuracy:  97.75 %\n",
            "Epoch 79  Loss: [0.12919548] , Training Accuracy:  97.75 %\n",
            "Epoch 80  Loss: [0.12790999] , Training Accuracy:  97.875 %\n",
            "Epoch 81  Loss: [0.12664355] , Training Accuracy:  97.875 %\n",
            "Epoch 82  Loss: [0.12539551] , Training Accuracy:  98.0 %\n",
            "Epoch 83  Loss: [0.12416523] , Training Accuracy:  98.125 %\n",
            "Epoch 84  Loss: [0.1229521] , Training Accuracy:  98.125 %\n",
            "Epoch 85  Loss: [0.12175552] , Training Accuracy:  98.25 %\n",
            "Epoch 86  Loss: [0.12057493] , Training Accuracy:  98.25 %\n",
            "Epoch 87  Loss: [0.11940976] , Training Accuracy:  98.25 %\n",
            "Epoch 88  Loss: [0.1182595] , Training Accuracy:  98.375 %\n",
            "Epoch 89  Loss: [0.11712363] , Training Accuracy:  98.375 %\n",
            "Epoch 90  Loss: [0.11600165] , Training Accuracy:  98.375 %\n",
            "Epoch 91  Loss: [0.11489312] , Training Accuracy:  98.375 %\n",
            "Epoch 92  Loss: [0.11379759] , Training Accuracy:  98.375 %\n",
            "Epoch 93  Loss: [0.11271464] , Training Accuracy:  98.375 %\n",
            "Epoch 94  Loss: [0.11164391] , Training Accuracy:  98.5 %\n",
            "Epoch 95  Loss: [0.11058505] , Training Accuracy:  98.5 %\n",
            "Epoch 96  Loss: [0.10953775] , Training Accuracy:  98.5 %\n",
            "Epoch 97  Loss: [0.10850175] , Training Accuracy:  98.5 %\n",
            "Epoch 98  Loss: [0.10747684] , Training Accuracy:  98.5 %\n",
            "Epoch 99  Loss: [0.10646285] , Training Accuracy:  98.5 %\n",
            "avg Training Accuracy: 93.14%\n",
            "time: 1min 14s (started: 2025-01-29 09:41:18 +00:00)\n"
          ]
        }
      ],
      "source": [
        "X = X_train\n",
        "Y = Y_train\n",
        "loss_list = []\n",
        "epoch_list = []\n",
        "num_of_examples = X_train.shape[1]\n",
        "\n",
        "total_accuracy = 0\n",
        "\n",
        "for i in range(epochs):\n",
        "  avg_epoch_loss = 0\n",
        "  correct_predictions = 0\n",
        "  for j in range(num_of_examples):\n",
        "    Z1 = np.matmul(W1, X[:,j]).reshape(-1,1) + b1\n",
        "    A1 = sigmoid(Z1)\n",
        "    Z2 = np.dot(W2, A1) + b2\n",
        "    A2 = sigmoid(Z2)\n",
        "    Yout = A2.item()\n",
        "\n",
        "    loss = log_loss(Yout, Y[j])\n",
        "    avg_epoch_loss = avg_epoch_loss + loss\n",
        "\n",
        "    prediction = 1 if Yout > 0.5 else 0\n",
        "    if prediction == Y[j]:\n",
        "        correct_predictions += 1\n",
        "\n",
        "    dZ2 = (A2 - Y[j]) * A2 * (1 - A2)\n",
        "    dW2 = np.matmul(dZ2, A1.T)\n",
        "    db2 = np.sum(dZ2, axis=1, keepdims=True)\n",
        "    dA1 = np.matmul(W2.T, dZ2)\n",
        "    dZ1 = dA1 * A1 * (1 - A1)\n",
        "    dW1 = np.matmul(dZ1, X[:, j].reshape(1, -1))\n",
        "    db1 =  np.sum(dZ1, axis=1, keepdims=True)\n",
        "\n",
        "    W2 -= learning_rate*dW2\n",
        "    b2 -= learning_rate*db2\n",
        "    W1 -= learning_rate*dW1\n",
        "    b1 -= learning_rate*db1\n",
        "\n",
        "  avg_epoch_loss = avg_epoch_loss/num_of_examples\n",
        "  loss_list.append(avg_epoch_loss.item())\n",
        "  epoch_list.append(i)\n",
        "  accuracy = correct_predictions / num_of_examples * 100\n",
        "\n",
        "  total_accuracy += accuracy\n",
        "\n",
        "  print(\"Epoch\", i,\" Loss:\", avg_epoch_loss, \", Training Accuracy: \", accuracy,\"%\")\n",
        "\n",
        "avg_accuracy = total_accuracy / epochs\n",
        "print(f\"avg Training Accuracy: {avg_accuracy:.2f}%\")"
      ]
    },
    {
      "cell_type": "markdown",
      "metadata": {
        "id": "TdgCk97534-B"
      },
      "source": [
        "### Loss Visualization"
      ]
    },
    {
      "cell_type": "code",
      "execution_count": null,
      "metadata": {
        "id": "RFo9NN5Q31X8",
        "colab": {
          "base_uri": "https://localhost:8080/",
          "height": 484
        },
        "outputId": "111bb14c-0a70-4827-e1c7-5245036f403b"
      },
      "outputs": [
        {
          "output_type": "execute_result",
          "data": {
            "text/plain": [
              "[<matplotlib.lines.Line2D at 0x78d71cf56790>]"
            ]
          },
          "metadata": {},
          "execution_count": 17
        },
        {
          "output_type": "display_data",
          "data": {
            "text/plain": [
              "<Figure size 640x480 with 1 Axes>"
            ],
            "image/png": "[encoded data removed]"
          },
          "metadata": {}
        },
        {
          "output_type": "stream",
          "name": "stdout",
          "text": [
            "time: 181 ms (started: 2025-01-29 09:42:32 +00:00)\n"
          ]
        }
      ],
      "source": [
        "import matplotlib.pyplot as plt\n",
        "plt.xlabel('Epoch Number')\n",
        "plt.ylabel(\"Loss\")\n",
        "plt.plot(epoch_list, loss_list)"
      ]
    },
    {
      "cell_type": "markdown",
      "metadata": {
        "id": "5HV5g7j92Xfn"
      },
      "source": [
        "## Results"
      ]
    },
    {
      "cell_type": "markdown",
      "metadata": {
        "id": "raBFclM5ploH"
      },
      "source": [
        "### Test performance"
      ]
    },
    {
      "cell_type": "code",
      "execution_count": null,
      "metadata": {
        "id": "flfh-luxDs7Z",
        "colab": {
          "base_uri": "https://localhost:8080/"
        },
        "outputId": "3e115435-04dc-4a74-aac2-eae1e93a3ead"
      },
      "outputs": [
        {
          "output_type": "stream",
          "name": "stdout",
          "text": [
            "[[91  9]\n",
            " [ 9 91]]\n",
            "Accuracy:  91.0 %\n",
            "time: 8.48 ms (started: 2025-01-29 09:42:32 +00:00)\n"
          ]
        }
      ],
      "source": [
        "X = X_test\n",
        "Y = Y_test\n",
        "\n",
        "Z1 = np.matmul(W1, X) + b1\n",
        "A1 = sigmoid(Z1)\n",
        "Z2 = np.matmul(W2, A1) + b2\n",
        "A2 = sigmoid(Z2)\n",
        "\n",
        "predictions = np.zeros((1,Y.shape[0]))\n",
        "labels = np.zeros((1,Y.shape[0]))\n",
        "\n",
        "for i in range(Y.shape[0]):\n",
        "  if (A2[0,i] > 0.5):\n",
        "    predictions[0,i] = 1\n",
        "  labels[0,i] = Y[i,0]\n",
        "\n",
        "print(confusion_matrix(labels.T,predictions.T))\n",
        "\n",
        "#[[TN  FP]\n",
        "#[FN  TP]]\n",
        "\n",
        "print(\"Accuracy: \",accuracy_score(labels.T, predictions.T)*100,\"%\")"
      ]
    },
    {
      "cell_type": "code",
      "execution_count": null,
      "metadata": {
        "id": "fAd8cJYG1hfY",
        "colab": {
          "base_uri": "https://localhost:8080/",
          "height": 565
        },
        "outputId": "5d6d7de0-186c-40cc-8d47-b61174892904"
      },
      "outputs": [
        {
          "output_type": "display_data",
          "data": {
            "text/plain": [
              "<Figure size 800x600 with 2 Axes>"
            ],
            "image/png": "[encoded data removed]"
          },
          "metadata": {}
        },
        {
          "output_type": "stream",
          "name": "stdout",
          "text": [
            "time: 255 ms (started: 2025-01-29 09:42:32 +00:00)\n"
          ]
        }
      ],
      "source": [
        "from sklearn.metrics import confusion_matrix\n",
        "\n",
        "cm = confusion_matrix(predictions.T, labels.T)\n",
        "plt.rc('font', size='11')\n",
        "plt.figure(figsize=(8, 6))\n",
        "plt.imshow(cm, interpolation='nearest', cmap=plt.cm.Blues)\n",
        "plt.title('Confusion Matrix',size=15)\n",
        "plt.colorbar()\n",
        "tick_marks = np.arange(2)\n",
        "plt.xticks(tick_marks, ['Class 0, Hand number: ' + classes[0], 'Class 1, Hand number: ' + classes[1]])\n",
        "plt.yticks(tick_marks, ['Class 0, Hand number: ' + classes[0], 'Class 1, Hand number: ' + classes[1]])\n",
        "\n",
        "for i in range(2):\n",
        "    for j in range(2):\n",
        "        plt.text(j, i, cm[i, j], ha='center', va='center', color='white' if cm[i, j] > cm.max() / 2 else 'black')\n",
        "\n",
        "plt.ylabel('Ground truth', rotation=0,size=13)\n",
        "plt.xlabel('Predicted',size=13)\n",
        "\n",
        "plt.tight_layout()\n",
        "plt.show()"
      ]
    },
    {
      "cell_type": "markdown",
      "metadata": {
        "id": "7FtZr0EQBlcm"
      },
      "source": [
        "### Visualize the results"
      ]
    },
    {
      "cell_type": "markdown",
      "source": [
        "Plotting 10 examples - predictions and labels"
      ],
      "metadata": {
        "id": "8hVO5bLwQFn2"
      }
    },
    {
      "cell_type": "code",
      "execution_count": null,
      "metadata": {
        "id": "gAj_5W2wVUrI",
        "colab": {
          "base_uri": "https://localhost:8080/",
          "height": 1000
        },
        "outputId": "5de084fa-7498-4acc-93ac-f67fa81044ec"
      },
      "outputs": [
        {
          "output_type": "display_data",
          "data": {
            "text/plain": [
              "<Figure size 640x480 with 1 Axes>"
            ],
            "image/png": "[encoded data removed]"
          },
          "metadata": {}
        },
        {
          "output_type": "stream",
          "name": "stdout",
          "text": [
            "Real= 1 Predicted= [0.67726119]\n"
          ]
        },
        {
          "output_type": "display_data",
          "data": {
            "text/plain": [
              "<Figure size 640x480 with 1 Axes>"
            ],
            "image/png": "[encoded data removed]"
          },
          "metadata": {}
        },
        {
          "output_type": "stream",
          "name": "stdout",
          "text": [
            "Real= 0 Predicted= [0.02129763]\n"
          ]
        },
        {
          "output_type": "display_data",
          "data": {
            "text/plain": [
              "<Figure size 640x480 with 1 Axes>"
            ],
            "image/png": "[encoded data removed]"
          },
          "metadata": {}
        },
        {
          "output_type": "stream",
          "name": "stdout",
          "text": [
            "Real= 0 Predicted= [0.02071863]\n"
          ]
        },
        {
          "output_type": "display_data",
          "data": {
            "text/plain": [
              "<Figure size 640x480 with 1 Axes>"
            ],
            "image/png": "[encoded data removed]"
          },
          "metadata": {}
        },
        {
          "output_type": "stream",
          "name": "stdout",
          "text": [
            "Real= 1 Predicted= [0.94552306]\n"
          ]
        },
        {
          "output_type": "display_data",
          "data": {
            "text/plain": [
              "<Figure size 640x480 with 1 Axes>"
            ],
            "image/png": "[encoded data removed]"
          },
          "metadata": {}
        },
        {
          "output_type": "stream",
          "name": "stdout",
          "text": [
            "Real= 1 Predicted= [0.99488886]\n"
          ]
        },
        {
          "output_type": "display_data",
          "data": {
            "text/plain": [
              "<Figure size 640x480 with 1 Axes>"
            ],
            "image/png": "[encoded data removed]"
          },
          "metadata": {}
        },
        {
          "output_type": "stream",
          "name": "stdout",
          "text": [
            "Real= 0 Predicted= [0.02129763]\n"
          ]
        },
        {
          "output_type": "display_data",
          "data": {
            "text/plain": [
              "<Figure size 640x480 with 1 Axes>"
            ],
            "image/png": "[encoded data removed]"
          },
          "metadata": {}
        },
        {
          "output_type": "stream",
          "name": "stdout",
          "text": [
            "Real= 0 Predicted= [0.06471515]\n"
          ]
        },
        {
          "output_type": "display_data",
          "data": {
            "text/plain": [
              "<Figure size 640x480 with 1 Axes>"
            ],
            "image/png": "[encoded data removed]"
          },
          "metadata": {}
        },
        {
          "output_type": "stream",
          "name": "stdout",
          "text": [
            "Real= 0 Predicted= [0.10187124]\n"
          ]
        },
        {
          "output_type": "display_data",
          "data": {
            "text/plain": [
              "<Figure size 640x480 with 1 Axes>"
            ],
            "image/png": "[encoded data removed]"
          },
          "metadata": {}
        },
        {
          "output_type": "stream",
          "name": "stdout",
          "text": [
            "Real= 1 Predicted= [0.93831364]\n"
          ]
        },
        {
          "output_type": "display_data",
          "data": {
            "text/plain": [
              "<Figure size 640x480 with 1 Axes>"
            ],
            "image/png": "[encoded data removed]"
          },
          "metadata": {}
        },
        {
          "output_type": "stream",
          "name": "stdout",
          "text": [
            "Real= 0 Predicted= [0.09221439]\n",
            "time: 528 ms (started: 2025-01-29 09:42:32 +00:00)\n"
          ]
        }
      ],
      "source": [
        "%matplotlib inline\n",
        "from numpy import random\n",
        "for example in range(10):\n",
        "  i = random.randint(200)\n",
        "  plt.imshow(X_test[:,i].reshape(28,28), cmap = matplotlib.cm.binary)\n",
        "  plt.axis(\"off\")\n",
        "  plt.show()\n",
        "  Y_test[i,0]\n",
        "\n",
        "  Z1 = np.matmul(W1,X_test[:,i])\n",
        "  A1 = sigmoid(Z1)\n",
        "  Z2 = np.matmul(W2,A1)\n",
        "  A2 = sigmoid(Z2)\n",
        "  Yout = Y[i,0]\n",
        "  print(\"Real=\", Y_test[i,0], \"Predicted=\",A2)"
      ]
    },
    {
      "cell_type": "code",
      "source": [
        "end=time.time()\n",
        "print(f\"Total runtime in seconds: {end-start}\")"
      ],
      "metadata": {
        "id": "q_JyhV5HlUgF",
        "colab": {
          "base_uri": "https://localhost:8080/"
        },
        "outputId": "ca457bd5-f4db-4527-c6cf-bede6a554658"
      },
      "execution_count": null,
      "outputs": [
        {
          "output_type": "stream",
          "name": "stdout",
          "text": [
            "Total runtime in seconds: 103.38780474662781\n",
            "time: 4.21 ms (started: 2025-01-29 09:42:33 +00:00)\n"
          ]
        }
      ]
    }
  ],
  "metadata": {
    "colab": {
      "provenance": [],
      "gpuType": "T4"
    },
    "kernelspec": {
      "display_name": "Python 3",
      "name": "python3"
    },
    "language_info": {
      "name": "python"
    },
    "accelerator": "GPU"
  },
  "nbformat": 4,
  "nbformat_minor": 0
}